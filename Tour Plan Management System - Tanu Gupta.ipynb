{
 "cells": [
  {
   "cell_type": "code",
   "execution_count": 101,
   "metadata": {},
   "outputs": [],
   "source": [
    "allpayments = [] #Created an empty list to store all payment details\n",
    "bookedtrips = [] #Created an empty list to store all details of all trips booked via this portal"
   ]
  },
  {
   "cell_type": "code",
   "execution_count": 102,
   "metadata": {},
   "outputs": [],
   "source": [
    "# Used Dictionary data structure to save the travel mode details.\n",
    "travelmoderatecard = {}         # created an empty dictionary to store rates of all travel modes available.\n",
    "travelmoderatecard[\"R1\"] = {    # Added flight mode details with key as the mode's code. Similarly done for others.\n",
    "    \"mode\": \"Flight\",\n",
    "    \"rate\": 10\n",
    "}\n",
    "\n",
    "travelmoderatecard[\"R2\"] = {\n",
    "    \"mode\": \"Train\",\n",
    "    \"rate\": 5\n",
    "}\n",
    "\n",
    "travelmoderatecard[\"R3\"] = {\n",
    "    \"mode\": \"Bus\",\n",
    "    \"rate\": 20\n",
    "}\n",
    "\n",
    "# print(travelmoderatecard)"
   ]
  },
  {
   "cell_type": "code",
   "execution_count": 103,
   "metadata": {},
   "outputs": [],
   "source": [
    "# Used Dictionary data structure to save the destination distance details.\n",
    "destdistcard = {}         # created an empty dictionary to store distance and other details to all available destinations.\n",
    "destdistcard[\"D1\"] = {    # Added destination details with key as the destination's code. Similarly done for others.\n",
    "    \"destination\": \"Mumbai\",\n",
    "    \"distance\": 1300\n",
    "}\n",
    "\n",
    "destdistcard[\"D2\"] = {\n",
    "    \"destination\": \"Bangalore\",\n",
    "    \"distance\": 300\n",
    "}\n",
    "\n",
    "destdistcard[\"D3\"] = {\n",
    "    \"destination\": \"Hyderabad\",\n",
    "    \"distance\": 600\n",
    "}\n",
    "\n",
    "# print(destdistcard)"
   ]
  },
  {
   "cell_type": "code",
   "execution_count": 104,
   "metadata": {},
   "outputs": [],
   "source": [
    "# Function to validate date \n",
    "def validatedate(dd, mm, yyyy):\n",
    "    if not yyyy.isdigit(): # Year should be a number\n",
    "        return False \n",
    "    if not mm.isdigit():  #Month should be a number\n",
    "        return False\n",
    "    elif int(mm)<=0 or int(mm)>12: # Month should not be less than 0 or more than 12 (Jan-Dec)\n",
    "        return False\n",
    "    if not dd.isdigit(): #Day should be a number\n",
    "        return False\n",
    "#Logic to fix maximum value of day based on year(leap/non-leap) and month(28/29/30/31 no. of days)of the year\n",
    "    imm = int(mm)\n",
    "    iyyyy = int(yyyy)\n",
    "    if imm == 2:\n",
    "        ddHigh = 28\n",
    "        if iyyyy%4 == 0:\n",
    "            ddHigh = 29\n",
    "    elif imm in [4,6,9,11]:\n",
    "        ddHigh = 30\n",
    "    else:\n",
    "        ddHigh = 31\n",
    "    if int(dd)<=0 or int(dd)>ddHigh:\n",
    "        return False\n",
    "    return True\n",
    "\n",
    "# validatedate(\"29\",\"02\", \"2021\")"
   ]
  },
  {
   "cell_type": "code",
   "execution_count": 110,
   "metadata": {},
   "outputs": [
    {
     "name": "stdout",
     "output_type": "stream",
     "text": [
      "Enter primary customer first name: Tanu\n",
      "Name accepted\n",
      "Enter primary customer mobile number: 8787656545\n",
      "Correct mobile number\n"
     ]
    }
   ],
   "source": [
    "Primaryuser = {}  #Created an empty dictionary to store primary user details\n",
    "\n",
    "\n",
    "while True:\n",
    "    pname = input(\"Enter primary customer first name: \")  # Input primary user name\n",
    "    if pname.isalpha():    #Name should not have special character or numbers in it  \n",
    "        Primaryuser[\"Name\"] = pname\n",
    "        break\n",
    "    else:\n",
    "        print(\"Please enter valid name\")\n",
    "        \n",
    "\n",
    "while True:\n",
    "    pmobileno = input(\"Enter primary customer mobile number: \") #Input primary user phone no.\n",
    "\n",
    "    if pmobileno.isdigit() and len(pmobileno)==10:  #Phone no should be 10 digits and should not have any alphabet or special characters   \n",
    "        Primaryuser[\"Mobno\"] = pmobileno\n",
    "        break\n",
    "    else:\n",
    "        print(\"Please enter correct mobile no\")\n",
    "# print(Primaryuser)     # To print primary user details"
   ]
  },
  {
   "cell_type": "code",
   "execution_count": 111,
   "metadata": {
    "scrolled": true
   },
   "outputs": [
    {
     "name": "stdout",
     "output_type": "stream",
     "text": [
      "Please enter no of people travelling in your group(>=2)2\n",
      "Enter traveller nameTanya\n",
      "Enter traveller age24\n",
      "Enter traveller nameNishu\n",
      "Enter traveller age25\n",
      "Please enter the date of travel(DD/MM/YYYY): 31/12/2020\n",
      "31 12 2020\n"
     ]
    }
   ],
   "source": [
    "travellercount = int(input(\"Please enter no of people travelling in your group(>=2)\")) #To input no. of people travelling \n",
    "if(travellercount<2): #To check if no of people in the group is greater than equal to 2\n",
    "    \n",
    "    print(\"For group travel minimum no of people travelling is 2\")\n",
    "else:\n",
    "        \n",
    "    travellerdetails = {      # Dictionary to save all traveller details along with some preprocessing information\n",
    "        \"travellers\": [],\n",
    "        \"AdultCount\": 0,\n",
    "        \"Childcount\": 0,\n",
    "        \"Dayoftravel\": None\n",
    "    }\n",
    "\n",
    "    for i in range(0,travellercount):  #To collect data of each traveller individually\n",
    "        custname = input(\"Enter traveller name\")  # To input name of traveller\n",
    "        custage = int(input(\"Enter traveller age\")) # To input age of traveller\n",
    "        custdetails = {\"Name\": custname, \"Age\": custage} # Dictionary to store one traveller's name and age\n",
    "        if custage<6 and custage>0:   #Logic to categorize current traveller as Adult or Child\n",
    "            travellerdetails[\"Childcount\"] = travellerdetails[\"Childcount\"]+1 \n",
    "        else:\n",
    "            travellerdetails[\"AdultCount\"] = travellerdetails[\"AdultCount\"]+1\n",
    "        travellerdetails[\"travellers\"].append(custdetails)\n",
    "    isdatevalid = False\n",
    "    while not isdatevalid:\n",
    "        dayoftravel = input(\"Please enter the date of travel(DD/MM/YYYY): \") #To input day of travel\n",
    "        day,month,year = dayoftravel.split('/') # To separate the day, month and year from the Date in string format\n",
    "#         print(day, month, year)\n",
    "        if validatedate(day, month, year):  # Validating the date before saving\n",
    "            travellerdetails[\"Dayoftravel\"] = dayoftravel\n",
    "            isdatevalid = True\n",
    "        else:\n",
    "            print(\"Please enter a valid date to continue\")\n",
    "            \n",
    "#     print(travellerdetails) # To print traveller details\n",
    "        \n"
   ]
  },
  {
   "cell_type": "code",
   "execution_count": 112,
   "metadata": {},
   "outputs": [
    {
     "name": "stdout",
     "output_type": "stream",
     "text": [
      "Choose from the wide range of travel modes available:\n",
      "\t1.Flight\n",
      "\t2.Train\n",
      "\t3.Bus\n",
      "Make your choice: 1\n"
     ]
    }
   ],
   "source": [
    "getmodedetails={  #Dictionary to replicate switch case behaviour for travel modes selection\n",
    "    1:\"R1\",\n",
    "    2:\"R2\",\n",
    "    3:\"R3\"\n",
    "}\n",
    "\n",
    "while True:\n",
    "    print(\"Choose from the wide range of travel modes available:\\n\\t1.Flight\\n\\t2.Train\\n\\t3.Bus\")\n",
    "    tmodech = int(input(\"Make your choice: \"))\n",
    "    if tmodech<1 or tmodech>3:    #To check invalid response\n",
    "        print(\"Invalid Choice! Please make a valid choice to continue.\")\n",
    "    else:\n",
    "        ratech= travelmoderatecard[getmodedetails[tmodech]][\"rate\"] # To fetch rate of the selected travel mode\n",
    "        break\n",
    "# print(ratech) # To print selected modes rates\n"
   ]
  },
  {
   "cell_type": "code",
   "execution_count": 114,
   "metadata": {},
   "outputs": [
    {
     "name": "stdout",
     "output_type": "stream",
     "text": [
      "Choose from the exotic destinations available:\n",
      "\t1.Mumbai\n",
      "\t2.Bangalore\n",
      "\t3.Hyderabad\n",
      "Make your choice: 1\n",
      "1300\n",
      "Do you want it to be a round trip(Y/N): Y\n"
     ]
    }
   ],
   "source": [
    "getdestchoice={ #Dictionary to replicate switch case behaviour for destination selection\n",
    "    1:\"D1\",\n",
    "    2:\"D2\",\n",
    "    3:\"D3\"\n",
    "}\n",
    "while True:\n",
    "    print(\"Choose from the exotic destinations available:\\n\\t1.Mumbai\\n\\t2.Bangalore\\n\\t3.Hyderabad\")\n",
    "    tdestch = int(input(\"Make your choice: \"))\n",
    "    if tdestch<1 or tdestch>3:  #To check invalid response\n",
    "        print(\"Invalid Choice! Please make a valid choice to continue.\")\n",
    "    else:\n",
    "        d=destdistcard[getdestchoice[tdestch]]\n",
    "        distch= d[\"distance\"]\n",
    "        print(distch)\n",
    "        break\n",
    "roundch = input(\"Do you want it to be a round trip(Y/N): \")  #Input from user to determine round trip or not\n",
    "isroundtrip = False\n",
    "if roundch==\"Y\" or roundch==\"y\":   # If user enters Y or y then \"Yes\", \"No\" otherwise\n",
    "    isroundtrip=True\n"
   ]
  },
  {
   "cell_type": "code",
   "execution_count": 117,
   "metadata": {},
   "outputs": [],
   "source": [
    "perpersonfare = ratech*distch # Caluclate rate for an adult in a one way trip\n",
    "if isroundtrip:\n",
    "    perpersonfare = perpersonfare*2 # Double the fare for round trip\n",
    "groupfare= travellerdetails[\"AdultCount\"]* perpersonfare + travellerdetails[\"Childcount\"]*perpersonfare*0.5 # Total fare of group by taking half ticket for a child and full for an adult\n",
    "netfare = groupfare+ 0.18*groupfare   # Calculating net fare by adding 18% GST\n",
    "# print(groupfare) \n",
    "# print(netfare)\n",
    "farebreakup = {     #Dictionary to store the fare breakup for the group\n",
    "    \"GroupTripFare\" : groupfare,\n",
    "    \"GST Charges(18%)\": netfare-groupfare,\n",
    "    \"Net Fare\" : netfare\n",
    "}\n",
    "    "
   ]
  },
  {
   "cell_type": "code",
   "execution_count": 118,
   "metadata": {},
   "outputs": [
    {
     "name": "stdout",
     "output_type": "stream",
     "text": [
      "Name\t\t\tAge\n",
      "Tanya \t\t\t 24\n",
      "Nishu \t\t\t 25\n",
      "\n",
      " Are the details of every passenger is correct? Please confirm(Y/N):Y\n"
     ]
    }
   ],
   "source": [
    "#Code to confirm traveller details from the primary customer\n",
    "print(\"Name\\t\\t\\tAge\")    \n",
    "for travCust in travellerdetails[\"travellers\"]: \n",
    "    \n",
    "    print(travCust[\"Name\"],\"\\t\\t\\t\", travCust[\"Age\"])\n",
    "    \n",
    "response =input(\"\\n Are the details of every passenger is correct? Please confirm(Y/N):\")\n",
    "if not (response==\"Y\" or response==\"y\"):\n",
    "    print(\"Please make the booking again with correct details\")\n",
    "    exit(0)\n",
    "\n"
   ]
  },
  {
   "cell_type": "code",
   "execution_count": 120,
   "metadata": {},
   "outputs": [
    {
     "name": "stdout",
     "output_type": "stream",
     "text": [
      "Choose from the payments modes available:\n",
      "\t1.Card\n",
      "\t2.UPI\n",
      "\t3.Cash\n",
      "Make your choice: 2\n"
     ]
    }
   ],
   "source": [
    "getpaymentchoice={ #Dictionary to replicate switch case behaviour for payment mode selection\n",
    "    1:\"Card\",\n",
    "    2:\"UPI\",\n",
    "    3:\"Cash\"\n",
    "}\n",
    "while True:\n",
    "    print(\"Choose from the payments modes available:\\n\\t1.Card\\n\\t2.UPI\\n\\t3.Cash\")\n",
    "    paych = int(input(\"Make your choice: \"))\n",
    "    paymode = getpaymentchoice[paych]\n",
    "    break\n",
    "paymentdetails = {    # Dictionary to store payment details\n",
    "    \"Paymentid\" : len(allpayments)+1,  # Creating a payment id by taking a size of allpayments list\n",
    "    \"CustomerNo\" : pmobileno,\n",
    "    \"Paidamount\" : netfare,\n",
    "    \"Paymentmode\": paymode,\n",
    "}\n",
    "allpayments.append(paymentdetails)  #Added the payment details to allpayments list\n",
    "# print(allpayments)"
   ]
  },
  {
   "cell_type": "code",
   "execution_count": 121,
   "metadata": {},
   "outputs": [],
   "source": [
    " # Accumulating all the details of the trip to a dictionary to be added to the bookedtrips list\n",
    "bookingsummary ={  \n",
    "    \"TripId\":len(bookedtrips)+1,  # Creating a trip id by taking a size of bookedtrips list\n",
    "    \"Primarycustname\": pname,\n",
    "    \"Primarycustmobileno\":pmobileno,\n",
    "     \"Destinationchoice\": d[\"destination\"],\n",
    "    \"IsRoundTrip\": isroundtrip,\n",
    "    \"Travellerdetails\":travellerdetails,\n",
    "    \"paymentsdetails\": paymentdetails,\n",
    "    \"farebreakup\" : farebreakup\n",
    "    \n",
    "}\n",
    "bookedtrips.append(bookingsummary)\n",
    "# print(bookedtrips)\n"
   ]
  },
  {
   "cell_type": "code",
   "execution_count": 122,
   "metadata": {},
   "outputs": [
    {
     "name": "stdout",
     "output_type": "stream",
     "text": [
      "|################################\t TRIP SUMMARY \t################################|\n",
      "|---------------------------------------------------------------------------------------|\n",
      "| Trip ID: 1\t| Primary Cutomer Name: Tanu\t| Primary Customer Mob No.: 8787656545\t|\n",
      "|---------------------------------------------------------------------------------------|\n",
      "| From: Chennai\t| To: Mumbai\t| Date of Journey: 31/12/2020\t | Round Trip(Y/N): Yes\t|\n",
      "|---------------------------------------------------------------------------------------|\n",
      "| Passeneger Details\t\t\t\t\t\t|  Adult:2 Child:0\t|\n",
      "|---------------------------------------------------------------------------------------|\n",
      "| Passenger Name: Tanya\t\t\t\t\t\t| Passenger Age: 24\t|\n",
      "| Passenger Name: Nishu\t\t\t\t\t\t| Passenger Age: 25\t|\n",
      "|---------------------------------------------------------------------------------------|\n",
      "| *********************************  Payment Details  ********************************* |\n",
      "| Payment ID : 2\t\t\t\t\t\t|Trip Fare: 52000.0\t|\n",
      "|\t\t\t\t\t| GST Charges: 9360.0\t| Net Fare: 61360.0\t|\n",
      "| Payment Status : Paid\t\t\t| Payment Mode : UPI\t| Paid Amount: 61360.0\t|\n",
      "|---------------------------------------------------------------------------------------|\n"
     ]
    }
   ],
   "source": [
    "#Logic to print booking summary/Ticket\n",
    "if bookingsummary[\"IsRoundTrip\"]:   #Converting boolean(True/False) to user readble(Yes/No) format\n",
    "    statusroundtrip = \"Yes\"\n",
    "else:\n",
    "    statusroundtrip = \"No\"\n",
    "print(\"|################################\\t TRIP SUMMARY \\t################################|\")\n",
    "print(\"|---------------------------------------------------------------------------------------|\")\n",
    "print(\"| Trip ID: {0}\\t| Primary Cutomer Name: {1}\\t| Primary Customer Mob No.: {2}\\t|\".format(bookingsummary[\"TripId\"],bookingsummary[\"Primarycustname\"],bookingsummary[\"Primarycustmobileno\"]))\n",
    "print(\"|---------------------------------------------------------------------------------------|\")\n",
    "print(\"| From: Chennai\\t| To: {0}\\t| Date of Journey: {1}\\t | Round Trip(Y/N): {2}\\t|\".format(bookingsummary[\"Destinationchoice\"],bookingsummary[\"Travellerdetails\"][\"Dayoftravel\"],statusroundtrip))\n",
    "print(\"|---------------------------------------------------------------------------------------|\")\n",
    "print(\"| Passeneger Details\\t\\t\\t\\t\\t\\t|  Adult:{0} Child:{1}\\t|\".format(bookingsummary[\"Travellerdetails\"][\"AdultCount\"],bookingsummary[\"Travellerdetails\"][\"Childcount\"]))\n",
    "print(\"|---------------------------------------------------------------------------------------|\")\n",
    "for passenger in bookingsummary[\"Travellerdetails\"][\"travellers\"]:\n",
    "    print(\"| Passenger Name: {0}\\t\\t\\t\\t\\t\\t| Passenger Age: {1}\\t|\".format(passenger[\"Name\"],passenger[\"Age\"]))\n",
    "print(\"|---------------------------------------------------------------------------------------|\")\n",
    "print(\"| *********************************  Payment Details  ********************************* |\")\n",
    "print(\"| Payment ID : {0}\\t\\t\\t\\t\\t\\t|Trip Fare: {1}\\t|\".format(bookingsummary[\"paymentsdetails\"][\"Paymentid\"],bookingsummary[\"farebreakup\"][\"GroupTripFare\"]))\n",
    "print(\"|\\t\\t\\t\\t\\t| GST Charges: {0}\\t| Net Fare: {1}\\t|\".format(bookingsummary[\"farebreakup\"][\"GST Charges(18%)\"],bookingsummary[\"farebreakup\"][\"Net Fare\"]))\n",
    "print(\"| Payment Status : Paid\\t\\t\\t| Payment Mode : {0}\\t| Paid Amount: {1}\\t|\".format(bookingsummary[\"paymentsdetails\"][\"Paymentmode\"],bookingsummary[\"paymentsdetails\"][\"Paidamount\"]))\n",
    "print(\"|---------------------------------------------------------------------------------------|\")"
   ]
  },
  {
   "cell_type": "code",
   "execution_count": null,
   "metadata": {},
   "outputs": [],
   "source": []
  }
 ],
 "metadata": {
  "kernelspec": {
   "display_name": "Python 3",
   "language": "python",
   "name": "python3"
  },
  "language_info": {
   "codemirror_mode": {
    "name": "ipython",
    "version": 3
   },
   "file_extension": ".py",
   "mimetype": "text/x-python",
   "name": "python",
   "nbconvert_exporter": "python",
   "pygments_lexer": "ipython3",
   "version": "3.8.5"
  }
 },
 "nbformat": 4,
 "nbformat_minor": 4
}
